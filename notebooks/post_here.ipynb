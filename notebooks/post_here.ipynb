{
  "nbformat": 4,
  "nbformat_minor": 0,
  "metadata": {
    "colab": {
      "name": "post_here.ipynb",
      "provenance": [],
      "collapsed_sections": []
    },
    "kernelspec": {
      "name": "python3",
      "display_name": "Python 3"
    }
  },
  "cells": [
    {
      "cell_type": "markdown",
      "metadata": {
        "id": "iVxBND_D-jyw",
        "colab_type": "text"
      },
      "source": [
        "## Imports"
      ]
    },
    {
      "cell_type": "code",
      "metadata": {
        "id": "m0CLbX_D0Tgf",
        "colab_type": "code",
        "colab": {}
      },
      "source": [
        "import numpy as np\n",
        "import pandas as pd\n",
        "import matplotlib.pyplot as plt\n",
        "\n",
        "\n",
        "from sklearn.pipeline import Pipeline\n",
        "from sklearn.neighbors import NearestNeighbors, KNeighborsClassifier\n",
        "from sklearn.feature_extraction.text import CountVectorizer, TfidfTransformer"
      ],
      "execution_count": 0,
      "outputs": []
    },
    {
      "cell_type": "markdown",
      "metadata": {
        "id": "g4TkxZhm-do_",
        "colab_type": "text"
      },
      "source": [
        "## Load data"
      ]
    },
    {
      "cell_type": "code",
      "metadata": {
        "id": "kgQWGXco3waP",
        "colab_type": "code",
        "colab": {}
      },
      "source": [
        "# load data\n",
        "\n",
        "!pip install PyDrive"
      ],
      "execution_count": 0,
      "outputs": []
    },
    {
      "cell_type": "code",
      "metadata": {
        "id": "415wjEW3828O",
        "colab_type": "code",
        "colab": {}
      },
      "source": [
        "from pydrive.auth import GoogleAuth\n",
        "from pydrive.drive import GoogleDrive\n",
        "from google.colab import auth\n",
        "from oauth2client.client import GoogleCredentials"
      ],
      "execution_count": 0,
      "outputs": []
    },
    {
      "cell_type": "code",
      "metadata": {
        "id": "BI1GkkWx8-A9",
        "colab_type": "code",
        "colab": {}
      },
      "source": [
        "auth.authenticate_user()\n",
        "gauth = GoogleAuth()\n",
        "gauth.credentials = GoogleCredentials.get_application_default()\n",
        "drive = GoogleDrive(gauth)"
      ],
      "execution_count": 0,
      "outputs": []
    },
    {
      "cell_type": "code",
      "metadata": {
        "id": "i6SFG7fO9AW1",
        "colab_type": "code",
        "colab": {}
      },
      "source": [
        "downloaded = drive.CreateFile({'id':\"1C4bfP-e2Uoiwc0xZYprS7jar3B9Iy6dB\"})   # replace the id with id of file you want to access\n",
        "downloaded.GetContentFile('reddit.tsv')        # replace the file name with your file"
      ],
      "execution_count": 0,
      "outputs": []
    },
    {
      "cell_type": "code",
      "metadata": {
        "id": "8XO7dzs59aNc",
        "colab_type": "code",
        "colab": {}
      },
      "source": [
        "import pandas as pd\n",
        "data = pd.read_csv('reddit.tsv', sep=\"\\t\")"
      ],
      "execution_count": 0,
      "outputs": []
    },
    {
      "cell_type": "code",
      "metadata": {
        "id": "5wD310MS-Hw0",
        "colab_type": "code",
        "outputId": "1c456306-9923-42ae-e3c6-3d1fc229f7b1",
        "colab": {
          "base_uri": "https://localhost:8080/",
          "height": 411
        }
      },
      "source": [
        "data"
      ],
      "execution_count": 0,
      "outputs": [
        {
          "output_type": "execute_result",
          "data": {
            "text/html": [
              "<div>\n",
              "<style scoped>\n",
              "    .dataframe tbody tr th:only-of-type {\n",
              "        vertical-align: middle;\n",
              "    }\n",
              "\n",
              "    .dataframe tbody tr th {\n",
              "        vertical-align: top;\n",
              "    }\n",
              "\n",
              "    .dataframe thead th {\n",
              "        text-align: right;\n",
              "    }\n",
              "</style>\n",
              "<table border=\"1\" class=\"dataframe\">\n",
              "  <thead>\n",
              "    <tr style=\"text-align: right;\">\n",
              "      <th></th>\n",
              "      <th>id</th>\n",
              "      <th>subreddit</th>\n",
              "      <th>title</th>\n",
              "      <th>selftext</th>\n",
              "    </tr>\n",
              "  </thead>\n",
              "  <tbody>\n",
              "    <tr>\n",
              "      <th>0</th>\n",
              "      <td>6d8knd</td>\n",
              "      <td>talesfromtechsupport</td>\n",
              "      <td>Remember your command line switches...</td>\n",
              "      <td>Hi there,  &lt;lb&gt;The usual. Long time lerker, fi...</td>\n",
              "    </tr>\n",
              "    <tr>\n",
              "      <th>1</th>\n",
              "      <td>58mbft</td>\n",
              "      <td>teenmom</td>\n",
              "      <td>So what was Matt \"addicted\" to?</td>\n",
              "      <td>Did he ever say what his addiction was or is h...</td>\n",
              "    </tr>\n",
              "    <tr>\n",
              "      <th>2</th>\n",
              "      <td>8f73s7</td>\n",
              "      <td>Harley</td>\n",
              "      <td>No Club Colors</td>\n",
              "      <td>Funny story. I went to college in Las Vegas. T...</td>\n",
              "    </tr>\n",
              "    <tr>\n",
              "      <th>3</th>\n",
              "      <td>6ti6re</td>\n",
              "      <td>ringdoorbell</td>\n",
              "      <td>Not door bell, but floodlight mount height.</td>\n",
              "      <td>I know this is a sub for the 'Ring Doorbell' b...</td>\n",
              "    </tr>\n",
              "    <tr>\n",
              "      <th>4</th>\n",
              "      <td>77sxto</td>\n",
              "      <td>intel</td>\n",
              "      <td>Worried about my 8700k small fft/data stress r...</td>\n",
              "      <td>Prime95 (regardless of version) and OCCT both,...</td>\n",
              "    </tr>\n",
              "    <tr>\n",
              "      <th>...</th>\n",
              "      <td>...</td>\n",
              "      <td>...</td>\n",
              "      <td>...</td>\n",
              "      <td>...</td>\n",
              "    </tr>\n",
              "    <tr>\n",
              "      <th>1012995</th>\n",
              "      <td>5r9k4h</td>\n",
              "      <td>MSLGame</td>\n",
              "      <td>Is this months rebirth and dungeon astro's wor...</td>\n",
              "      <td>I looking on what to evo3 farm next and was ex...</td>\n",
              "    </tr>\n",
              "    <tr>\n",
              "      <th>1012996</th>\n",
              "      <td>6529fp</td>\n",
              "      <td>CrohnsDisease</td>\n",
              "      <td>I might need a Medical leave from grad school</td>\n",
              "      <td>Has anyone here ever needed a medical leave fr...</td>\n",
              "    </tr>\n",
              "    <tr>\n",
              "      <th>1012997</th>\n",
              "      <td>7tiyzx</td>\n",
              "      <td>HongKong</td>\n",
              "      <td>Police harassing ethnic minorities in Hong Kong</td>\n",
              "      <td>I thought I'd make this post so that more peop...</td>\n",
              "    </tr>\n",
              "    <tr>\n",
              "      <th>1012998</th>\n",
              "      <td>664ha3</td>\n",
              "      <td>yorku</td>\n",
              "      <td>SU EECS 2030 and EECS 2021 - need advice</td>\n",
              "      <td>Hi, I just finished 1st year EECS courses and ...</td>\n",
              "    </tr>\n",
              "    <tr>\n",
              "      <th>1012999</th>\n",
              "      <td>6ump0y</td>\n",
              "      <td>wine</td>\n",
              "      <td>What is the worse wine you ever had?</td>\n",
              "      <td>My worst wine was at a dinner party. My friend...</td>\n",
              "    </tr>\n",
              "  </tbody>\n",
              "</table>\n",
              "<p>1013000 rows × 4 columns</p>\n",
              "</div>"
            ],
            "text/plain": [
              "             id  ...                                           selftext\n",
              "0        6d8knd  ...  Hi there,  <lb>The usual. Long time lerker, fi...\n",
              "1        58mbft  ...  Did he ever say what his addiction was or is h...\n",
              "2        8f73s7  ...  Funny story. I went to college in Las Vegas. T...\n",
              "3        6ti6re  ...  I know this is a sub for the 'Ring Doorbell' b...\n",
              "4        77sxto  ...  Prime95 (regardless of version) and OCCT both,...\n",
              "...         ...  ...                                                ...\n",
              "1012995  5r9k4h  ...  I looking on what to evo3 farm next and was ex...\n",
              "1012996  6529fp  ...  Has anyone here ever needed a medical leave fr...\n",
              "1012997  7tiyzx  ...  I thought I'd make this post so that more peop...\n",
              "1012998  664ha3  ...  Hi, I just finished 1st year EECS courses and ...\n",
              "1012999  6ump0y  ...  My worst wine was at a dinner party. My friend...\n",
              "\n",
              "[1013000 rows x 4 columns]"
            ]
          },
          "metadata": {
            "tags": []
          },
          "execution_count": 15
        }
      ]
    },
    {
      "cell_type": "code",
      "metadata": {
        "id": "yYrW2Mxn-Pna",
        "colab_type": "code",
        "outputId": "2cf02673-97ce-494c-bc90-31c683e6dadc",
        "colab": {
          "base_uri": "https://localhost:8080/",
          "height": 52
        }
      },
      "source": [
        "data['selftext'][1]"
      ],
      "execution_count": 0,
      "outputs": [
        {
          "output_type": "execute_result",
          "data": {
            "text/plain": [
              "\"Did he ever say what his addiction was or is he still chugging beers while talking about how sober he is?<lb><lb>Edited to add: As an addict myself, anyone I know whose been an addict doesn't drink and in the group I go to (similar to NA and AA) drinking is considered a slip-up. Has he said what he's addicted to or is he still talking out of his ass, winging it as he goes?\""
            ]
          },
          "metadata": {
            "tags": []
          },
          "execution_count": 17
        }
      ]
    },
    {
      "cell_type": "markdown",
      "metadata": {
        "id": "mXs321Wc_BgJ",
        "colab_type": "text"
      },
      "source": [
        "## Model\n",
        "\n",
        "To do:\n",
        "  \n",
        "- Vectorize the data - TfidfVectorizer\n",
        "> convert the words into numbers\n",
        "\n",
        "- "
      ]
    },
    {
      "cell_type": "code",
      "metadata": {
        "id": "5Yv37eJhCO9x",
        "colab_type": "code",
        "colab": {}
      },
      "source": [
        "\n",
        "# algorithm{‘auto’, ‘ball_tree’, ‘kd_tree’, ‘brute’}\n",
        "\n",
        "nn = NearestNeighbors(n_neighbors=10, algorithm='brute', n_jobs=-1)\n",
        "\n",
        "# Fit the model on TFidf Vectors\n",
        "nn.fit()"
      ],
      "execution_count": 0,
      "outputs": []
    },
    {
      "cell_type": "code",
      "metadata": {
        "id": "81eNNsQxCQLw",
        "colab_type": "code",
        "colab": {}
      },
      "source": [
        ""
      ],
      "execution_count": 0,
      "outputs": []
    }
  ]
}