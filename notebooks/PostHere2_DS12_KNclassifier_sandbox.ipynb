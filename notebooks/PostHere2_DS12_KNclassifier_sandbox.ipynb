{
  "nbformat": 4,
  "nbformat_minor": 0,
  "metadata": {
    "colab": {
      "name": "PostHere2_DS12_KNclassifier_sandbox.ipynb",
      "provenance": [],
      "collapsed_sections": [],
      "machine_shape": "hm"
    },
    "kernelspec": {
      "name": "python3",
      "display_name": "Python 3"
    },
    "accelerator": "TPU"
  },
  "cells": [
    {
      "cell_type": "code",
      "metadata": {
        "id": "415wjEW3828O",
        "colab_type": "code",
        "colab": {}
      },
      "source": [
        "from pydrive.auth import GoogleAuth\n",
        "from pydrive.drive import GoogleDrive\n",
        "from google.colab import auth\n",
        "from oauth2client.client import GoogleCredentials"
      ],
      "execution_count": 0,
      "outputs": []
    },
    {
      "cell_type": "code",
      "metadata": {
        "id": "BI1GkkWx8-A9",
        "colab_type": "code",
        "colab": {}
      },
      "source": [
        "auth.authenticate_user()\n",
        "gauth = GoogleAuth()\n",
        "gauth.credentials = GoogleCredentials.get_application_default()\n",
        "drive = GoogleDrive(gauth)"
      ],
      "execution_count": 0,
      "outputs": []
    },
    {
      "cell_type": "code",
      "metadata": {
        "id": "i6SFG7fO9AW1",
        "colab_type": "code",
        "colab": {}
      },
      "source": [
        "downloaded = drive.CreateFile({'id':\"1C4bfP-e2Uoiwc0xZYprS7jar3B9Iy6dB\"})  \n",
        "downloaded.GetContentFile('reddit.tsv')       "
      ],
      "execution_count": 0,
      "outputs": []
    },
    {
      "cell_type": "code",
      "metadata": {
        "id": "m0CLbX_D0Tgf",
        "colab_type": "code",
        "outputId": "60d4eea4-cb90-4188-d38e-1bd41ec74f3f",
        "colab": {
          "base_uri": "https://localhost:8080/",
          "height": 52
        }
      },
      "source": [
        "import spacy\n",
        "\n",
        "import spacy.cli\n",
        "spacy.cli.download(\"en_core_web_lg\")\n",
        "import en_core_web_lg\n",
        "nlp = en_core_web_lg.load()\n",
        "\n",
        "import numpy as np\n",
        "import pandas as pd\n",
        "import matplotlib.pyplot as plt\n",
        "\n",
        "from sklearn.pipeline import Pipeline\n",
        "from sklearn.preprocessing import LabelEncoder\n",
        "from sklearn.model_selection import train_test_split\n",
        "from sklearn.neighbors import NearestNeighbors, KNeighborsClassifier\n",
        "from sklearn.feature_extraction.text import CountVectorizer, TfidfTransformer, TfidfVectorizer"
      ],
      "execution_count": 81,
      "outputs": [
        {
          "output_type": "stream",
          "text": [
            "\u001b[38;5;2m✔ Download and installation successful\u001b[0m\n",
            "You can now load the model via spacy.load('en_core_web_lg')\n"
          ],
          "name": "stdout"
        }
      ]
    },
    {
      "cell_type": "code",
      "metadata": {
        "id": "MhnxDWT1G0xe",
        "colab_type": "code",
        "outputId": "e4fab789-b8f0-48e2-b5c8-899077c4e47f",
        "colab": {
          "base_uri": "https://localhost:8080/",
          "height": 35
        }
      },
      "source": [
        "data = pd.read_csv('reddit.tsv', sep=\"\\t\")\n",
        " \n",
        "print(data.shape)"
      ],
      "execution_count": 82,
      "outputs": [
        {
          "output_type": "stream",
          "text": [
            "(1013000, 4)\n"
          ],
          "name": "stdout"
        }
      ]
    },
    {
      "cell_type": "code",
      "metadata": {
        "id": "OGXKve6_tu9m",
        "colab_type": "code",
        "colab": {}
      },
      "source": [
        "subrs = data['subreddit'].unique().tolist()"
      ],
      "execution_count": 0,
      "outputs": []
    },
    {
      "cell_type": "code",
      "metadata": {
        "id": "SWSvBRUyuynV",
        "colab_type": "code",
        "colab": {}
      },
      "source": [
        "# type(subrs[0])"
      ],
      "execution_count": 0,
      "outputs": []
    },
    {
      "cell_type": "code",
      "metadata": {
        "id": "qYSGlJmCu97f",
        "colab_type": "code",
        "colab": {}
      },
      "source": [
        "# nomen = 'number'+subrs[0]\n",
        "# vars()[nomen] = 456\n",
        "# numbertalesfromtechsupport"
      ],
      "execution_count": 0,
      "outputs": []
    },
    {
      "cell_type": "code",
      "metadata": {
        "id": "dURIHEs-xfAk",
        "colab_type": "code",
        "colab": {}
      },
      "source": [
        "# vars()['nomen']"
      ],
      "execution_count": 0,
      "outputs": []
    },
    {
      "cell_type": "code",
      "metadata": {
        "id": "CRQEmyiMze4X",
        "colab_type": "code",
        "colab": {}
      },
      "source": [
        "# nomenlist = []\n",
        "# nomenlist.append(vars()['nomen'])\n",
        "# nomenlist"
      ],
      "execution_count": 0,
      "outputs": []
    },
    {
      "cell_type": "code",
      "metadata": {
        "id": "shyEDA201BgI",
        "colab_type": "code",
        "colab": {}
      },
      "source": [
        "# vars()[nomenlist[0]]"
      ],
      "execution_count": 0,
      "outputs": []
    },
    {
      "cell_type": "code",
      "metadata": {
        "id": "3Dpwtnsn0jEY",
        "colab_type": "code",
        "colab": {}
      },
      "source": [
        "# data[data['subreddit'] == subrs[0]].head()"
      ],
      "execution_count": 0,
      "outputs": []
    },
    {
      "cell_type": "code",
      "metadata": {
        "id": "roGgBApPq5-8",
        "colab_type": "code",
        "outputId": "7a1b6c0e-ef0e-4c45-919a-2c33770cac45",
        "colab": {
          "base_uri": "https://localhost:8080/",
          "height": 35
        }
      },
      "source": [
        "samplist = []\n",
        "\n",
        "for i in range(len(subrs)):\n",
        "  nomen = 'datasamp'+str(i)\n",
        "  vars()[nomen] = data[data['subreddit'] == subrs[i]]\n",
        "  samplist.append(nomen)\n",
        "\n",
        "len(samplist)"
      ],
      "execution_count": 90,
      "outputs": [
        {
          "output_type": "execute_result",
          "data": {
            "text/plain": [
              "1013"
            ]
          },
          "metadata": {
            "tags": []
          },
          "execution_count": 90
        }
      ]
    },
    {
      "cell_type": "code",
      "metadata": {
        "id": "eosJ7WGGvM55",
        "colab_type": "code",
        "colab": {}
      },
      "source": [
        "# vars()[samplist[0]].head()"
      ],
      "execution_count": 0,
      "outputs": []
    },
    {
      "cell_type": "code",
      "metadata": {
        "id": "iYBiI1cJ_s9D",
        "colab_type": "code",
        "colab": {}
      },
      "source": [
        "# vars()[samplist[0]].shape"
      ],
      "execution_count": 0,
      "outputs": []
    },
    {
      "cell_type": "code",
      "metadata": {
        "id": "IWdguS8W_wzk",
        "colab_type": "code",
        "colab": {}
      },
      "source": [
        "# test = pd.concat([vars()[samplist[0]], vars()[samplist[1]]], ignore_index=True)\n",
        "\n",
        "# test.shape"
      ],
      "execution_count": 0,
      "outputs": []
    },
    {
      "cell_type": "code",
      "metadata": {
        "id": "05NANwwtBnXs",
        "colab_type": "code",
        "colab": {}
      },
      "source": [
        "# len(samplist)-1"
      ],
      "execution_count": 0,
      "outputs": []
    },
    {
      "cell_type": "code",
      "metadata": {
        "id": "rK0F1kFOuIfG",
        "colab_type": "code",
        "outputId": "6fe8334a-96ef-4b15-a699-b5ebccb91450",
        "colab": {
          "base_uri": "https://localhost:8080/",
          "height": 35
        }
      },
      "source": [
        "# CREATE DATA_STRAT\n",
        "full_starter = vars()[samplist[0]]\n",
        "data_strat = full_starter.sample(frac=0.04, replace=True, random_state=42)\n",
        "\n",
        "for i in range(len(samplist)-1):\n",
        "  full_subr = vars()[samplist[i+1]]\n",
        "  subr_samp = full_subr.sample(frac=0.04, replace=True, random_state=42)\n",
        "  data_strat = pd.concat([data_strat, subr_samp], ignore_index=True)\n",
        "\n",
        "data_strat.shape"
      ],
      "execution_count": 95,
      "outputs": [
        {
          "output_type": "execute_result",
          "data": {
            "text/plain": [
              "(40520, 4)"
            ]
          },
          "metadata": {
            "tags": []
          },
          "execution_count": 95
        }
      ]
    },
    {
      "cell_type": "code",
      "metadata": {
        "id": "-kfx2NNDCRW_",
        "colab_type": "code",
        "colab": {}
      },
      "source": [
        "# checkr = data_strat['subreddit'].unique().tolist()"
      ],
      "execution_count": 0,
      "outputs": []
    },
    {
      "cell_type": "code",
      "metadata": {
        "id": "txpeK-Nhpew-",
        "colab_type": "code",
        "colab": {}
      },
      "source": [
        "# checkr == subrs"
      ],
      "execution_count": 0,
      "outputs": []
    },
    {
      "cell_type": "code",
      "metadata": {
        "id": "01esfDI-w3m9",
        "colab_type": "code",
        "colab": {}
      },
      "source": [
        "# data_strat.head(50)"
      ],
      "execution_count": 0,
      "outputs": []
    },
    {
      "cell_type": "code",
      "metadata": {
        "id": "9_1hD622DHp6",
        "colab_type": "code",
        "colab": {}
      },
      "source": [
        "# data_strat.tail(50)"
      ],
      "execution_count": 0,
      "outputs": []
    },
    {
      "cell_type": "code",
      "metadata": {
        "id": "kgQWGXco3waP",
        "colab_type": "code",
        "outputId": "e3d3214b-1587-4d6f-9cad-92654a215614",
        "colab": {
          "base_uri": "https://localhost:8080/",
          "height": 266
        }
      },
      "source": [
        "# load data\n",
        "\n",
        "!pip install PyDrive"
      ],
      "execution_count": 100,
      "outputs": [
        {
          "output_type": "stream",
          "text": [
            "Requirement already satisfied: PyDrive in /usr/local/lib/python3.6/dist-packages (1.3.1)\n",
            "Requirement already satisfied: oauth2client>=4.0.0 in /usr/local/lib/python3.6/dist-packages (from PyDrive) (4.1.3)\n",
            "Requirement already satisfied: google-api-python-client>=1.2 in /usr/local/lib/python3.6/dist-packages (from PyDrive) (1.7.12)\n",
            "Requirement already satisfied: PyYAML>=3.0 in /usr/local/lib/python3.6/dist-packages (from PyDrive) (3.13)\n",
            "Requirement already satisfied: httplib2>=0.9.1 in /usr/local/lib/python3.6/dist-packages (from oauth2client>=4.0.0->PyDrive) (0.17.3)\n",
            "Requirement already satisfied: six>=1.6.1 in /usr/local/lib/python3.6/dist-packages (from oauth2client>=4.0.0->PyDrive) (1.12.0)\n",
            "Requirement already satisfied: rsa>=3.1.4 in /usr/local/lib/python3.6/dist-packages (from oauth2client>=4.0.0->PyDrive) (4.0)\n",
            "Requirement already satisfied: pyasn1-modules>=0.0.5 in /usr/local/lib/python3.6/dist-packages (from oauth2client>=4.0.0->PyDrive) (0.2.8)\n",
            "Requirement already satisfied: pyasn1>=0.1.7 in /usr/local/lib/python3.6/dist-packages (from oauth2client>=4.0.0->PyDrive) (0.4.8)\n",
            "Requirement already satisfied: google-auth>=1.4.1 in /usr/local/lib/python3.6/dist-packages (from google-api-python-client>=1.2->PyDrive) (1.7.2)\n",
            "Requirement already satisfied: uritemplate<4dev,>=3.0.0 in /usr/local/lib/python3.6/dist-packages (from google-api-python-client>=1.2->PyDrive) (3.0.1)\n",
            "Requirement already satisfied: google-auth-httplib2>=0.0.3 in /usr/local/lib/python3.6/dist-packages (from google-api-python-client>=1.2->PyDrive) (0.0.3)\n",
            "Requirement already satisfied: cachetools<3.2,>=2.0.0 in /usr/local/lib/python3.6/dist-packages (from google-auth>=1.4.1->google-api-python-client>=1.2->PyDrive) (3.1.1)\n",
            "Requirement already satisfied: setuptools>=40.3.0 in /usr/local/lib/python3.6/dist-packages (from google-auth>=1.4.1->google-api-python-client>=1.2->PyDrive) (46.1.3)\n"
          ],
          "name": "stdout"
        }
      ]
    },
    {
      "cell_type": "code",
      "metadata": {
        "id": "aEKjxTJSFjI5",
        "colab_type": "code",
        "colab": {}
      },
      "source": [
        "from gensim.corpora import Dictionary\n",
        "from gensim.models.ldamulticore import LdaMulticore\n",
        "from gensim.models.coherencemodel import CoherenceModel"
      ],
      "execution_count": 0,
      "outputs": []
    },
    {
      "cell_type": "code",
      "metadata": {
        "id": "gJhbroiO-WV_",
        "colab_type": "code",
        "colab": {}
      },
      "source": [
        "# :: Cleaning :: #\n",
        "\n",
        "import re\n",
        "def clean(X):\n",
        "\n",
        "    # Prevent SettingWithCopyWarning\n",
        "    X = X.copy()\n",
        "    \n",
        "    # remove '\\\\n'\n",
        "    X['selftext'] = X['selftext'].map(lambda x: re.sub('\\\\n',' ',str(x)))\n",
        "    X['subreddit'] = X['subreddit'].map(lambda x: re.sub('\\\\n',' ',str(x)))\n",
        "    \n",
        "    # remove '' \n",
        "    X['selftext'] = X['selftext'].map(lambda x: re.sub('<lb>',' ',str(x)))\n",
        "    X['subreddit'] = X['subreddit'].map(lambda x: re.sub('<lb>',' ',str(x)))\n",
        "    \n",
        "    # remove any text starting with User... \n",
        "    X['selftext'] = X['selftext'].map(lambda x: re.sub(\"\\[\\[User.*\",'',str(x)))\n",
        "    X['subreddit'] = X['subreddit'].map(lambda x: re.sub(\"\\[\\[User.*\",'',str(x)))\n",
        "    \n",
        "    # remove IP addresses or user IDs\n",
        "    X['selftext'] =X['selftext'].map(lambda x: re.sub(\"\\[\\[User.*\",'',str(x)))\n",
        "    X['subreddit'] = X['subreddit'].map(lambda x: re.sub(\"\\[\\[User.*\",'',str(x)))\n",
        "    \n",
        "    #remove http links in the text\n",
        "    X['selftext'] = X['selftext'].map(lambda x: re.sub(\"(http://.*?\\s)|(http://.*)\",'',str(x)))\n",
        "    X['subreddit'] = X['subreddit'].map(lambda x: re.sub(\"(http://.*?\\s)|(http://.*)\",'',str(x)))\n",
        "    \n",
        "    X['corpus'] = X['title'] + ' ' + X['selftext']\n",
        "    \n",
        "\n",
        "    return X\n",
        "\n",
        "# train = clean(train)    \n",
        "# test = clean(test)"
      ],
      "execution_count": 0,
      "outputs": []
    },
    {
      "cell_type": "code",
      "metadata": {
        "id": "x_vqyqIsHBdW",
        "colab_type": "code",
        "outputId": "998e1c11-b3fd-4780-cf19-5f54e13c822d",
        "colab": {
          "base_uri": "https://localhost:8080/",
          "height": 212
        }
      },
      "source": [
        "data_strat0 = clean(data_strat)\n",
        "\n",
        "print(data_strat0.shape)\n",
        "data_strat0.head()"
      ],
      "execution_count": 103,
      "outputs": [
        {
          "output_type": "stream",
          "text": [
            "(40520, 5)\n"
          ],
          "name": "stdout"
        },
        {
          "output_type": "execute_result",
          "data": {
            "text/html": [
              "<div>\n",
              "<style scoped>\n",
              "    .dataframe tbody tr th:only-of-type {\n",
              "        vertical-align: middle;\n",
              "    }\n",
              "\n",
              "    .dataframe tbody tr th {\n",
              "        vertical-align: top;\n",
              "    }\n",
              "\n",
              "    .dataframe thead th {\n",
              "        text-align: right;\n",
              "    }\n",
              "</style>\n",
              "<table border=\"1\" class=\"dataframe\">\n",
              "  <thead>\n",
              "    <tr style=\"text-align: right;\">\n",
              "      <th></th>\n",
              "      <th>id</th>\n",
              "      <th>subreddit</th>\n",
              "      <th>title</th>\n",
              "      <th>selftext</th>\n",
              "      <th>corpus</th>\n",
              "    </tr>\n",
              "  </thead>\n",
              "  <tbody>\n",
              "    <tr>\n",
              "      <th>0</th>\n",
              "      <td>6k0qhd</td>\n",
              "      <td>talesfromtechsupport</td>\n",
              "      <td>User reboots device, problem still here</td>\n",
              "      <td>This story happened 4 years ago, while I was s...</td>\n",
              "      <td>User reboots device, problem still here This s...</td>\n",
              "    </tr>\n",
              "    <tr>\n",
              "      <th>1</th>\n",
              "      <td>7zpl52</td>\n",
              "      <td>talesfromtechsupport</td>\n",
              "      <td>Nothing but the finest in safety plans that ma...</td>\n",
              "      <td>Ok, so the other day I told you about a system...</td>\n",
              "      <td>Nothing but the finest in safety plans that ma...</td>\n",
              "    </tr>\n",
              "    <tr>\n",
              "      <th>2</th>\n",
              "      <td>85npi2</td>\n",
              "      <td>talesfromtechsupport</td>\n",
              "      <td>Sorry, I don't keep any record of temporary pa...</td>\n",
              "      <td>[My previous tale](https://www.reddit.com/r/ta...</td>\n",
              "      <td>Sorry, I don't keep any record of temporary pa...</td>\n",
              "    </tr>\n",
              "    <tr>\n",
              "      <th>3</th>\n",
              "      <td>7vq5dh</td>\n",
              "      <td>talesfromtechsupport</td>\n",
              "      <td>I didn't want someone to trip on the cable.</td>\n",
              "      <td>First time posting here so I'm going to keep i...</td>\n",
              "      <td>I didn't want someone to trip on the cable. Fi...</td>\n",
              "    </tr>\n",
              "    <tr>\n",
              "      <th>4</th>\n",
              "      <td>8huyw0</td>\n",
              "      <td>talesfromtechsupport</td>\n",
              "      <td>The ole' Contrast knob.</td>\n",
              "      <td>So this goes back a few years to when I was an...</td>\n",
              "      <td>The ole' Contrast knob. So this goes back a fe...</td>\n",
              "    </tr>\n",
              "  </tbody>\n",
              "</table>\n",
              "</div>"
            ],
            "text/plain": [
              "       id  ...                                             corpus\n",
              "0  6k0qhd  ...  User reboots device, problem still here This s...\n",
              "1  7zpl52  ...  Nothing but the finest in safety plans that ma...\n",
              "2  85npi2  ...  Sorry, I don't keep any record of temporary pa...\n",
              "3  7vq5dh  ...  I didn't want someone to trip on the cable. Fi...\n",
              "4  8huyw0  ...  The ole' Contrast knob. So this goes back a fe...\n",
              "\n",
              "[5 rows x 5 columns]"
            ]
          },
          "metadata": {
            "tags": []
          },
          "execution_count": 103
        }
      ]
    },
    {
      "cell_type": "code",
      "metadata": {
        "id": "LWwHb1ssHpFu",
        "colab_type": "code",
        "outputId": "500cbda7-cf25-4aa6-fff5-bd8a2be2dc1a",
        "colab": {
          "base_uri": "https://localhost:8080/",
          "height": 212
        }
      },
      "source": [
        "data_strat0['corpus'] = data_strat0['title'] + ' ' + data_strat0['selftext']\n",
        "print(data_strat0.shape)\n",
        "data_strat0.head()"
      ],
      "execution_count": 104,
      "outputs": [
        {
          "output_type": "stream",
          "text": [
            "(40520, 5)\n"
          ],
          "name": "stdout"
        },
        {
          "output_type": "execute_result",
          "data": {
            "text/html": [
              "<div>\n",
              "<style scoped>\n",
              "    .dataframe tbody tr th:only-of-type {\n",
              "        vertical-align: middle;\n",
              "    }\n",
              "\n",
              "    .dataframe tbody tr th {\n",
              "        vertical-align: top;\n",
              "    }\n",
              "\n",
              "    .dataframe thead th {\n",
              "        text-align: right;\n",
              "    }\n",
              "</style>\n",
              "<table border=\"1\" class=\"dataframe\">\n",
              "  <thead>\n",
              "    <tr style=\"text-align: right;\">\n",
              "      <th></th>\n",
              "      <th>id</th>\n",
              "      <th>subreddit</th>\n",
              "      <th>title</th>\n",
              "      <th>selftext</th>\n",
              "      <th>corpus</th>\n",
              "    </tr>\n",
              "  </thead>\n",
              "  <tbody>\n",
              "    <tr>\n",
              "      <th>0</th>\n",
              "      <td>6k0qhd</td>\n",
              "      <td>talesfromtechsupport</td>\n",
              "      <td>User reboots device, problem still here</td>\n",
              "      <td>This story happened 4 years ago, while I was s...</td>\n",
              "      <td>User reboots device, problem still here This s...</td>\n",
              "    </tr>\n",
              "    <tr>\n",
              "      <th>1</th>\n",
              "      <td>7zpl52</td>\n",
              "      <td>talesfromtechsupport</td>\n",
              "      <td>Nothing but the finest in safety plans that ma...</td>\n",
              "      <td>Ok, so the other day I told you about a system...</td>\n",
              "      <td>Nothing but the finest in safety plans that ma...</td>\n",
              "    </tr>\n",
              "    <tr>\n",
              "      <th>2</th>\n",
              "      <td>85npi2</td>\n",
              "      <td>talesfromtechsupport</td>\n",
              "      <td>Sorry, I don't keep any record of temporary pa...</td>\n",
              "      <td>[My previous tale](https://www.reddit.com/r/ta...</td>\n",
              "      <td>Sorry, I don't keep any record of temporary pa...</td>\n",
              "    </tr>\n",
              "    <tr>\n",
              "      <th>3</th>\n",
              "      <td>7vq5dh</td>\n",
              "      <td>talesfromtechsupport</td>\n",
              "      <td>I didn't want someone to trip on the cable.</td>\n",
              "      <td>First time posting here so I'm going to keep i...</td>\n",
              "      <td>I didn't want someone to trip on the cable. Fi...</td>\n",
              "    </tr>\n",
              "    <tr>\n",
              "      <th>4</th>\n",
              "      <td>8huyw0</td>\n",
              "      <td>talesfromtechsupport</td>\n",
              "      <td>The ole' Contrast knob.</td>\n",
              "      <td>So this goes back a few years to when I was an...</td>\n",
              "      <td>The ole' Contrast knob. So this goes back a fe...</td>\n",
              "    </tr>\n",
              "  </tbody>\n",
              "</table>\n",
              "</div>"
            ],
            "text/plain": [
              "       id  ...                                             corpus\n",
              "0  6k0qhd  ...  User reboots device, problem still here This s...\n",
              "1  7zpl52  ...  Nothing but the finest in safety plans that ma...\n",
              "2  85npi2  ...  Sorry, I don't keep any record of temporary pa...\n",
              "3  7vq5dh  ...  I didn't want someone to trip on the cable. Fi...\n",
              "4  8huyw0  ...  The ole' Contrast knob. So this goes back a fe...\n",
              "\n",
              "[5 rows x 5 columns]"
            ]
          },
          "metadata": {
            "tags": []
          },
          "execution_count": 104
        }
      ]
    },
    {
      "cell_type": "code",
      "metadata": {
        "id": "SS2bB44dIROO",
        "colab_type": "code",
        "colab": {}
      },
      "source": [
        "# type(data_strat0['corpus'][0])"
      ],
      "execution_count": 0,
      "outputs": []
    },
    {
      "cell_type": "code",
      "metadata": {
        "id": "9XHkDHUyIcI_",
        "colab_type": "code",
        "colab": {}
      },
      "source": [
        "# data_strat0['corpus'][0]"
      ],
      "execution_count": 0,
      "outputs": []
    },
    {
      "cell_type": "code",
      "metadata": {
        "id": "vslge6qBIs9r",
        "colab_type": "code",
        "outputId": "6b48b7fb-80f3-4827-ff42-583255a2652c",
        "colab": {
          "base_uri": "https://localhost:8080/",
          "height": 35
        }
      },
      "source": [
        "train, test = train_test_split(data_strat0, test_size=0.2, stratify=data_strat0[\"subreddit\"])\n",
        "\n",
        "train.shape, test.shape"
      ],
      "execution_count": 107,
      "outputs": [
        {
          "output_type": "execute_result",
          "data": {
            "text/plain": [
              "((32416, 5), (8104, 5))"
            ]
          },
          "metadata": {
            "tags": []
          },
          "execution_count": 107
        }
      ]
    },
    {
      "cell_type": "code",
      "metadata": {
        "id": "qnhcIEvDJG6Y",
        "colab_type": "code",
        "outputId": "8c6d9bd4-2c2e-43e7-b3ed-c757d11381a6",
        "colab": {
          "base_uri": "https://localhost:8080/",
          "height": 52
        }
      },
      "source": [
        "X_train = train[\"corpus\"]\n",
        "X_test = test[\"corpus\"]\n",
        "\n",
        "y_train = train[\"subreddit\"]\n",
        "y_test = test[\"subreddit\"]\n",
        "\n",
        "print(X_train.shape, X_test.shape)\n",
        "print(y_train.shape, y_test.shape)"
      ],
      "execution_count": 108,
      "outputs": [
        {
          "output_type": "stream",
          "text": [
            "(32416,) (8104,)\n",
            "(32416,) (8104,)\n"
          ],
          "name": "stdout"
        }
      ]
    },
    {
      "cell_type": "code",
      "metadata": {
        "id": "e95bDJyGbWJ2",
        "colab_type": "code",
        "colab": {}
      },
      "source": [
        "def tokenize(document):\n",
        "    doc = nlp(document)\n",
        "    return [token.lemma_.strip().lower() for token in doc \n",
        "            if (token.is_stop is False) and (token.is_punct is False)\n",
        "            and (token.is_space is False)]"
      ],
      "execution_count": 0,
      "outputs": []
    },
    {
      "cell_type": "code",
      "metadata": {
        "id": "l_-jP0XEaLxI",
        "colab_type": "code",
        "colab": {}
      },
      "source": [
        "tfidf = TfidfVectorizer(\n",
        "    stop_words='english', sublinear_tf=True, strip_accents='unicode',\n",
        "    ngram_range=(1,2), max_df=0.97, min_df=3, max_features=1000,\n",
        "    analyzer='word', tokenizer=tokenize\n",
        ")"
      ],
      "execution_count": 0,
      "outputs": []
    },
    {
      "cell_type": "code",
      "metadata": {
        "id": "ComN31rHbf5T",
        "colab_type": "code",
        "colab": {
          "base_uri": "https://localhost:8080/",
          "height": 52
        },
        "outputId": "9ddee49c-7249-4f04-c939-3bbef2eaaf0d"
      },
      "source": [
        "vectorizer = tfidf.fit(X_train)"
      ],
      "execution_count": 111,
      "outputs": [
        {
          "output_type": "stream",
          "text": [
            "/usr/local/lib/python3.6/dist-packages/sklearn/feature_extraction/text.py:507: UserWarning: The parameter 'token_pattern' will not be used since 'tokenizer' is not None'\n",
            "  warnings.warn(\"The parameter 'token_pattern' will not be used\"\n"
          ],
          "name": "stderr"
        }
      ]
    },
    {
      "cell_type": "code",
      "metadata": {
        "id": "LUQDiKOehEjI",
        "colab_type": "code",
        "colab": {}
      },
      "source": [
        "X_train_vect = vectorizer.transform(X_train)"
      ],
      "execution_count": 0,
      "outputs": []
    },
    {
      "cell_type": "code",
      "metadata": {
        "id": "L4RdXRhNhRfn",
        "colab_type": "code",
        "colab": {}
      },
      "source": [
        "dtm = pd.DataFrame(X_train_vect.todense(), columns=tfidf.get_feature_names())"
      ],
      "execution_count": 0,
      "outputs": []
    },
    {
      "cell_type": "code",
      "metadata": {
        "id": "nyHF25fumR9x",
        "colab_type": "code",
        "colab": {
          "base_uri": "https://localhost:8080/",
          "height": 35
        },
        "outputId": "bedd71d3-89dd-4f9a-c71e-69748268bd94"
      },
      "source": [
        "dtm.shape"
      ],
      "execution_count": 114,
      "outputs": [
        {
          "output_type": "execute_result",
          "data": {
            "text/plain": [
              "(32416, 1000)"
            ]
          },
          "metadata": {
            "tags": []
          },
          "execution_count": 114
        }
      ]
    },
    {
      "cell_type": "code",
      "metadata": {
        "id": "nlSRsf9iTkGc",
        "colab_type": "code",
        "colab": {}
      },
      "source": [
        "# dtm.to_csv(index=False)"
      ],
      "execution_count": 0,
      "outputs": []
    },
    {
      "cell_type": "code",
      "metadata": {
        "id": "ogkZ661cptdj",
        "colab_type": "code",
        "colab": {
          "base_uri": "https://localhost:8080/",
          "height": 35
        },
        "outputId": "db6bbdd7-e260-4b27-d73c-a77c568e9724"
      },
      "source": [
        "y_train.shape"
      ],
      "execution_count": 116,
      "outputs": [
        {
          "output_type": "execute_result",
          "data": {
            "text/plain": [
              "(32416,)"
            ]
          },
          "metadata": {
            "tags": []
          },
          "execution_count": 116
        }
      ]
    },
    {
      "cell_type": "code",
      "metadata": {
        "id": "r6q4hqyDmr_Q",
        "colab_type": "code",
        "colab": {}
      },
      "source": [
        "from sklearn import metrics\n",
        "from sklearn.model_selection import GridSearchCV"
      ],
      "execution_count": 0,
      "outputs": []
    },
    {
      "cell_type": "code",
      "metadata": {
        "id": "JXgMwetFmYX1",
        "colab_type": "code",
        "colab": {}
      },
      "source": [
        "# grid_params = {\n",
        "#     'n_neighbors': [2,4,8,12,16],\n",
        "#     'weights': ['uniform', 'distance'],\n",
        "#     'metric': ['euclidean','manhattan']\n",
        "# }\n",
        "\n",
        "\n",
        "# gs = GridSearchCV(\n",
        "#     KNeighborsClassifier(), grid_params, verbose=1, cv=5, n_jobs=-1\n",
        "# )\n",
        "\n",
        "# gs_results = gs.fit(dtm, y_train)\n",
        "\n",
        "# print(gs_results.best_score_)\n",
        "# print(gs_results.best_estimator_)\n",
        "# print(gs_results.best_params_)\n",
        "\n",
        "# # y_pred = knc.predict(X_train_vect)\n",
        "# # print(\"Accuracy:\", metrics.accuracy_score(y_train, y_pred))"
      ],
      "execution_count": 0,
      "outputs": []
    },
    {
      "cell_type": "code",
      "metadata": {
        "id": "gauzAcQam3hW",
        "colab_type": "code",
        "colab": {
          "base_uri": "https://localhost:8080/",
          "height": 35
        },
        "outputId": "90f2794e-1894-433b-88a3-abff6d3dffd7"
      },
      "source": [
        "knc = KNeighborsClassifier(algorithm='auto', leaf_size=30, metric='euclidean',\n",
        "                     metric_params=None, n_jobs=-1, n_neighbors=16, p=2,\n",
        "                     weights='distance')\n",
        "knc.fit(dtm, y_train)\n",
        "y_pred = knc.predict(dtm)\n",
        "print(\"Accuracy:\", metrics.accuracy_score(y_train, y_pred))"
      ],
      "execution_count": 119,
      "outputs": [
        {
          "output_type": "stream",
          "text": [
            "Accuracy: 0.9999691510365252\n"
          ],
          "name": "stdout"
        }
      ]
    },
    {
      "cell_type": "code",
      "metadata": {
        "id": "LZYO_YZym8Tm",
        "colab_type": "code",
        "colab": {}
      },
      "source": [
        "X_test_vect = vectorizer.transform(X_test)"
      ],
      "execution_count": 0,
      "outputs": []
    },
    {
      "cell_type": "code",
      "metadata": {
        "id": "7iuvOSqJq1T-",
        "colab_type": "code",
        "colab": {}
      },
      "source": [
        "test_dtm = pd.DataFrame(X_test_vect.todense(), columns=tfidf.get_feature_names())"
      ],
      "execution_count": 0,
      "outputs": []
    },
    {
      "cell_type": "code",
      "metadata": {
        "id": "VEzVFKylq55m",
        "colab_type": "code",
        "colab": {}
      },
      "source": [
        "test_pred = knc.predict(test_dtm)"
      ],
      "execution_count": 0,
      "outputs": []
    },
    {
      "cell_type": "code",
      "metadata": {
        "id": "bR-rbBWkr_si",
        "colab_type": "code",
        "colab": {
          "base_uri": "https://localhost:8080/",
          "height": 35
        },
        "outputId": "95daf6ec-6215-4e8f-cdd0-0b7802e53844"
      },
      "source": [
        "print(\"Accuracy:\", metrics.accuracy_score(y_test, test_pred))"
      ],
      "execution_count": 123,
      "outputs": [
        {
          "output_type": "stream",
          "text": [
            "Accuracy: 0.175715695952616\n"
          ],
          "name": "stdout"
        }
      ]
    },
    {
      "cell_type": "code",
      "metadata": {
        "id": "44zy82p6r6OW",
        "colab_type": "code",
        "colab": {}
      },
      "source": [
        "test_input = \"\"\"\n",
        "Michael Jordan on Isiah Thomas: \"Whatever he says now, you know it wasn't his true actions then. \n",
        "He's had time to think about it. Or, the reaction of the public, that's kind of changed his \n",
        "perspective of it. You can show me anything you want. There's no way you can convince me he wasn't an asshole.\n",
        "\"\"\""
      ],
      "execution_count": 0,
      "outputs": []
    },
    {
      "cell_type": "code",
      "metadata": {
        "id": "HaCf2UiwumOp",
        "colab_type": "code",
        "colab": {
          "base_uri": "https://localhost:8080/",
          "height": 35
        },
        "outputId": "f6220939-c5be-469b-c411-7832401add02"
      },
      "source": [
        "test_user_vect = vectorizer.transform([test_input])\n",
        "test_user_dtm = pd.DataFrame(test_user_vect.todense(), columns=tfidf.get_feature_names())\n",
        "knc.predict(test_user_dtm)\n"
      ],
      "execution_count": 129,
      "outputs": [
        {
          "output_type": "execute_result",
          "data": {
            "text/plain": [
              "array(['survivinginfidelity'], dtype=object)"
            ]
          },
          "metadata": {
            "tags": []
          },
          "execution_count": 129
        }
      ]
    },
    {
      "cell_type": "code",
      "metadata": {
        "id": "rlKcayOQu9C_",
        "colab_type": "code",
        "colab": {}
      },
      "source": [
        ""
      ],
      "execution_count": 0,
      "outputs": []
    },
    {
      "cell_type": "code",
      "metadata": {
        "id": "N6eC6iGR5yQR",
        "colab_type": "code",
        "colab": {}
      },
      "source": [
        "# !pip install bert-for-tf2"
      ],
      "execution_count": 0,
      "outputs": []
    },
    {
      "cell_type": "code",
      "metadata": {
        "id": "sFKSB4P3-JQ4",
        "colab_type": "code",
        "colab": {}
      },
      "source": [
        "# import tensorflow_hub as hub\n",
        "# import tensorflow as tf\n",
        "# import bert\n",
        "# FullTokenizer = bert.bert_tokenization.FullTokenizer\n",
        "# from tensorflow.keras.models import Model\n",
        "# import math"
      ],
      "execution_count": 0,
      "outputs": []
    },
    {
      "cell_type": "code",
      "metadata": {
        "id": "cqASB63n3gwF",
        "colab_type": "code",
        "colab": {}
      },
      "source": [
        "# max_seq_length = 200"
      ],
      "execution_count": 0,
      "outputs": []
    },
    {
      "cell_type": "code",
      "metadata": {
        "id": "ZSD45KoA8A00",
        "colab_type": "code",
        "colab": {}
      },
      "source": [
        "# input_word_ids = tf.keras.layers.Input(\n",
        "#     shape = (max_seq_length,), dtype=tf.int32, name = 'input_word_ids'\n",
        "# )\n",
        "\n",
        "# input_mask = tf.keras.layers.Input(\n",
        "#     shape = (max_seq_length,), dtype=tf.int32, name = 'input_mask'\n",
        "# )\n",
        "\n",
        "# segment_ids = tf.keras.layers.Input(\n",
        "#     shape = (max_seq_length,), dtype=tf.int32, name = 'segment_ids'\n",
        "# )\n",
        "\n",
        "# bert_layer = hub.KerasLayer(\n",
        "#     \"https://tfhub.dev/tensorflow/bert_en_uncased_L-12_H-768_A-12/1\",\n",
        "#     trainable=True\n",
        "# )\n",
        "\n",
        "# pooled_output, sequence_output = bert_layer(\n",
        "#     [input_word_ids, input_mask, segment_ids]\n",
        "# )\n",
        "\n",
        "# model = Model(\n",
        "#     inputs = [input_word_ids, input_mask, segment_ids],\n",
        "#     outputs = [pooled_output, sequence_output]\n",
        "# )"
      ],
      "execution_count": 0,
      "outputs": []
    },
    {
      "cell_type": "code",
      "metadata": {
        "id": "FX7MeFCd9vbQ",
        "colab_type": "code",
        "colab": {}
      },
      "source": [
        "# def get_masks(tokens, max_seq_length):\n",
        "#   if len(tokens) > max_seq_length:\n",
        "#     raise IndexError(\"Token length more than max_sequence_length\")\n",
        "#   return [1]*len(tokens) + [0]*(max_seq_length-len(tokens))"
      ],
      "execution_count": 0,
      "outputs": []
    },
    {
      "cell_type": "code",
      "metadata": {
        "id": "DXpgcrPF-iCs",
        "colab_type": "code",
        "colab": {}
      },
      "source": [
        "# def get_segments(tokens, max_seq_length):\n",
        "#   if len(tokens) > max_seq_length:\n",
        "#     raise IndexError(\"Token length more than max_sequence_length\")\n",
        "#   segments = []\n",
        "#   current_segment_id = 0\n",
        "#   for token in tokens:\n",
        "#     segments.append(current_segment_id)\n",
        "#     if token == \"[SEP]\":\n",
        "#       current_segment_id = 1\n",
        "#   return segments + [0]*(max_seq_length-len(tokens))"
      ],
      "execution_count": 0,
      "outputs": []
    },
    {
      "cell_type": "code",
      "metadata": {
        "id": "KyW5oY1fA0CO",
        "colab_type": "code",
        "colab": {}
      },
      "source": [
        "# def get_ids(tokens, tokenizer, max_seq_length):\n",
        "#   token_ids = tokenizer.convert_tokens_to_ids(tokens)\n",
        "#   input_ids = token_ids + [0]*(max_seq_length-len(token_ids))\n",
        "#   return input_ids"
      ],
      "execution_count": 0,
      "outputs": []
    },
    {
      "cell_type": "code",
      "metadata": {
        "id": "cOaznOIcE-J_",
        "colab_type": "code",
        "colab": {}
      },
      "source": [
        "# vocab_file = bert_layer.resolved_object.vocab_file.asset_path.numpy()\n",
        "# do_lower_case = bert_layer.resolved_object.do_lower_case.numpy()\n",
        "# tokenizer = FullTokenizer(vocab_file, do_lower_case)"
      ],
      "execution_count": 0,
      "outputs": []
    },
    {
      "cell_type": "code",
      "metadata": {
        "id": "McC4cT-nDB1m",
        "colab_type": "code",
        "colab": {}
      },
      "source": [
        "# test_tokens = tokenizer.tokenize('succinct sentence')                 # X_train[0][:200])\n",
        "# test_tokens = [\"[CLS]\"] + test_tokens + [\"[SEP]\"]"
      ],
      "execution_count": 0,
      "outputs": []
    },
    {
      "cell_type": "code",
      "metadata": {
        "id": "juTN9AxxEkcT",
        "colab_type": "code",
        "colab": {}
      },
      "source": [
        "# input_ids = get_ids(test_tokens, tokenizer, max_seq_length)\n",
        "# input_masks = get_masks(test_tokens, max_seq_length)\n",
        "# input_segments = get_segments(test_tokens, max_seq_length)"
      ],
      "execution_count": 0,
      "outputs": []
    },
    {
      "cell_type": "code",
      "metadata": {
        "id": "w0KKQ22HHis0",
        "colab_type": "code",
        "colab": {}
      },
      "source": [
        "# pool_embs, all_embs = model.predict(\n",
        "#      [[input_ids], [input_masks], [input_segments]]\n",
        "# )"
      ],
      "execution_count": 0,
      "outputs": []
    },
    {
      "cell_type": "code",
      "metadata": {
        "id": "2SzRUeuvIOTm",
        "colab_type": "code",
        "colab": {}
      },
      "source": [
        ""
      ],
      "execution_count": 0,
      "outputs": []
    },
    {
      "cell_type": "code",
      "metadata": {
        "id": "9dRE6iqFJghP",
        "colab_type": "code",
        "colab": {}
      },
      "source": [
        ""
      ],
      "execution_count": 0,
      "outputs": []
    },
    {
      "cell_type": "code",
      "metadata": {
        "id": "j6SZ9B887wqe",
        "colab_type": "code",
        "colab": {}
      },
      "source": [
        "from tensorflow.keras.preprocessing.text import Tokenizer"
      ],
      "execution_count": 0,
      "outputs": []
    },
    {
      "cell_type": "code",
      "metadata": {
        "id": "A4XpkPCt8A-L",
        "colab_type": "code",
        "colab": {}
      },
      "source": [
        "nizer = Tokenizer()"
      ],
      "execution_count": 0,
      "outputs": []
    },
    {
      "cell_type": "code",
      "metadata": {
        "id": "8o-XC-6pBt5E",
        "colab_type": "code",
        "colab": {}
      },
      "source": [
        "nizer.fit_on_texts(data['corpus'])"
      ],
      "execution_count": 0,
      "outputs": []
    },
    {
      "cell_type": "code",
      "metadata": {
        "id": "I-sJeDD68XBf",
        "colab_type": "code",
        "colab": {}
      },
      "source": [
        "sparse = nizer.texts_to_matrix(data['corpus'])\n",
        "print(sparse.shape)"
      ],
      "execution_count": 0,
      "outputs": []
    },
    {
      "cell_type": "code",
      "metadata": {
        "id": "n20f64Cr9aJQ",
        "colab_type": "code",
        "colab": {}
      },
      "source": [
        "sparse[0]"
      ],
      "execution_count": 0,
      "outputs": []
    },
    {
      "cell_type": "code",
      "metadata": {
        "id": "v1bu3LxnI_B2",
        "colab_type": "code",
        "colab": {}
      },
      "source": [
        "# data_strat0.to_csv(index=False)"
      ],
      "execution_count": 0,
      "outputs": []
    },
    {
      "cell_type": "code",
      "metadata": {
        "id": "-S99gmm7pXgh",
        "colab_type": "code",
        "colab": {}
      },
      "source": [
        "# %%capture\n",
        "# from tqdm import tqdm_notebook as tqdm\n",
        "# tqdm().pandas()"
      ],
      "execution_count": 0,
      "outputs": []
    },
    {
      "cell_type": "code",
      "metadata": {
        "id": "bdcdYzedKA1L",
        "colab_type": "code",
        "colab": {}
      },
      "source": [
        "# tokens = []\n",
        "\n",
        "# for doc in tqdm(nlp.pipe(datasamp['corpus'], batch_size=500)):\n",
        "    \n",
        "#     doc_tokens = []\n",
        "    \n",
        "#     for token in doc:\n",
        "#         if (token.is_stop == False) & (token.is_punct == False):\n",
        "#             doc_tokens.append(token.lemma_.lower())\n",
        "            \n",
        "#     tokens.append(doc_tokens)\n",
        "        \n",
        "# datasamp['tokens'] = tokens\n",
        "\n",
        "# del tokens\n",
        "\n",
        "# datasamp.head()"
      ],
      "execution_count": 0,
      "outputs": []
    }
  ]
}