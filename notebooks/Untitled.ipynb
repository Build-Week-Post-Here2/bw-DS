{
 "cells": [
  {
   "cell_type": "code",
   "execution_count": 1,
   "metadata": {},
   "outputs": [
    {
     "name": "stdout",
     "output_type": "stream",
     "text": [
      "Connection status:  200\n",
      "Json Keys: ['data', 'kind']\n"
     ]
    }
   ],
   "source": [
    "# Data from Reddit API\n",
    "# https://github.com/praw-dev/praw\n",
    "\n",
    "import requests\n",
    "\n",
    "url = 'https://www.reddit.com/r/Honda/.json'\n",
    "header = {'User-agent': 'Useragentname'}\n",
    "res = requests.get(url,headers=header)\n",
    "print(\"Connection status: \", res.status_code)\n",
    "the_json = res.json()\n",
    "print(\"Json Keys:\",sorted(the_json.keys()))"
   ]
  },
  {
   "cell_type": "code",
   "execution_count": null,
   "metadata": {},
   "outputs": [],
   "source": [
    "# Data from github \n",
    "\n",
    "url = 'https://github.com/linanqiu/reddit-dataset'"
   ]
  },
  {
   "cell_type": "code",
   "execution_count": null,
   "metadata": {},
   "outputs": [],
   "source": [
    "# Data from kaggle\n",
    "\n",
    "https://www.kaggle.com/mswarbrickjones/reddit-selfposts"
   ]
  },
  {
   "cell_type": "code",
   "execution_count": null,
   "metadata": {},
   "outputs": [],
   "source": []
  },
  {
   "cell_type": "code",
   "execution_count": null,
   "metadata": {},
   "outputs": [],
   "source": []
  },
  {
   "cell_type": "code",
   "execution_count": null,
   "metadata": {},
   "outputs": [],
   "source": []
  },
  {
   "cell_type": "code",
   "execution_count": null,
   "metadata": {},
   "outputs": [],
   "source": [
    "pd.concat([, ]).to_csv('cleaned.csv')"
   ]
  }
 ],
 "metadata": {
  "kernelspec": {
   "display_name": "Python 3",
   "language": "python",
   "name": "python3"
  },
  "language_info": {
   "codemirror_mode": {
    "name": "ipython",
    "version": 3
   },
   "file_extension": ".py",
   "mimetype": "text/x-python",
   "name": "python",
   "nbconvert_exporter": "python",
   "pygments_lexer": "ipython3",
   "version": "3.6.10"
  }
 },
 "nbformat": 4,
 "nbformat_minor": 4
}
